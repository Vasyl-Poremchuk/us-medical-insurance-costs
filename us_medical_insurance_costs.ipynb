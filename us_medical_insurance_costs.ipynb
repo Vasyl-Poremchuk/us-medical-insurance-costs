{
 "cells": [
  {
   "cell_type": "markdown",
   "source": [
    "## Import packages"
   ],
   "metadata": {
    "collapsed": false
   },
   "id": "412fca5718df5fb7"
  },
  {
   "cell_type": "code",
   "execution_count": 1,
   "id": "initial_id",
   "metadata": {
    "collapsed": true,
    "ExecuteTime": {
     "end_time": "2024-01-01T14:38:34.528852143Z",
     "start_time": "2024-01-01T14:38:34.221744433Z"
    }
   },
   "outputs": [],
   "source": [
    "import pandas as pd\n",
    "from pandas import DataFrame"
   ]
  },
  {
   "cell_type": "markdown",
   "source": [
    "## Assign constant values"
   ],
   "metadata": {
    "collapsed": false
   },
   "id": "a70c3a0b6c7a76ec"
  },
  {
   "cell_type": "code",
   "outputs": [],
   "source": [
    "FILE_PATH = \"./insurance.csv\"\n",
    "AGE_GROUPS = [\"Teenager\", \"Young adult\", \"Middle-aged adult\", \"Senior citizen\"]\n",
    "SMOKER_VALUES = {\"yes\": True, \"no\": False}\n",
    "BMI_GROUPS = [\"Underweight\", \"Normal weight\", \"Overweight\", \"Obese\"]"
   ],
   "metadata": {
    "collapsed": false,
    "ExecuteTime": {
     "end_time": "2024-01-01T14:38:34.529192710Z",
     "start_time": "2024-01-01T14:38:34.527874175Z"
    }
   },
   "id": "e9d580323dd5f379",
   "execution_count": 2
  },
  {
   "cell_type": "markdown",
   "source": [
    "## Create a DataFrame"
   ],
   "metadata": {
    "collapsed": false
   },
   "id": "d7fb9ef750c83566"
  },
  {
   "cell_type": "code",
   "outputs": [],
   "source": [
    "df = pd.read_csv(FILE_PATH)"
   ],
   "metadata": {
    "collapsed": false,
    "ExecuteTime": {
     "end_time": "2024-01-01T14:38:34.530011924Z",
     "start_time": "2024-01-01T14:38:34.528156893Z"
    }
   },
   "id": "34a2447574aa15e",
   "execution_count": 3
  },
  {
   "cell_type": "markdown",
   "source": [
    "## Explore the imported dataset"
   ],
   "metadata": {
    "collapsed": false
   },
   "id": "fe89956d3f914bf1"
  },
  {
   "cell_type": "code",
   "outputs": [
    {
     "name": "stdout",
     "output_type": "stream",
     "text": [
      "<class 'pandas.core.frame.DataFrame'>\n",
      "RangeIndex: 1338 entries, 0 to 1337\n",
      "Data columns (total 7 columns):\n",
      " #   Column    Non-Null Count  Dtype  \n",
      "---  ------    --------------  -----  \n",
      " 0   age       1338 non-null   int64  \n",
      " 1   sex       1338 non-null   object \n",
      " 2   bmi       1338 non-null   float64\n",
      " 3   children  1338 non-null   int64  \n",
      " 4   smoker    1338 non-null   object \n",
      " 5   region    1338 non-null   object \n",
      " 6   charges   1338 non-null   float64\n",
      "dtypes: float64(2), int64(2), object(3)\n",
      "memory usage: 73.3+ KB\n"
     ]
    }
   ],
   "source": [
    "df.info()"
   ],
   "metadata": {
    "collapsed": false,
    "ExecuteTime": {
     "end_time": "2024-01-01T14:38:34.591557530Z",
     "start_time": "2024-01-01T14:38:34.528216746Z"
    }
   },
   "id": "1574e6af258217f9",
   "execution_count": 4
  },
  {
   "cell_type": "markdown",
   "source": [
    "## Rename column names"
   ],
   "metadata": {
    "collapsed": false
   },
   "id": "dc415a6ae7ef0dbc"
  },
  {
   "cell_type": "code",
   "outputs": [
    {
     "data": {
      "text/plain": "   Age     Sex     BMI  Children Smoker     Region      Charges\n0   19  female  27.900         0    yes  southwest  16884.92400\n1   18    male  33.770         1     no  southeast   1725.55230\n2   28    male  33.000         3     no  southeast   4449.46200\n3   33    male  22.705         0     no  northwest  21984.47061\n4   32    male  28.880         0     no  northwest   3866.85520",
      "text/html": "<div>\n<style scoped>\n    .dataframe tbody tr th:only-of-type {\n        vertical-align: middle;\n    }\n\n    .dataframe tbody tr th {\n        vertical-align: top;\n    }\n\n    .dataframe thead th {\n        text-align: right;\n    }\n</style>\n<table border=\"1\" class=\"dataframe\">\n  <thead>\n    <tr style=\"text-align: right;\">\n      <th></th>\n      <th>Age</th>\n      <th>Sex</th>\n      <th>BMI</th>\n      <th>Children</th>\n      <th>Smoker</th>\n      <th>Region</th>\n      <th>Charges</th>\n    </tr>\n  </thead>\n  <tbody>\n    <tr>\n      <th>0</th>\n      <td>19</td>\n      <td>female</td>\n      <td>27.900</td>\n      <td>0</td>\n      <td>yes</td>\n      <td>southwest</td>\n      <td>16884.92400</td>\n    </tr>\n    <tr>\n      <th>1</th>\n      <td>18</td>\n      <td>male</td>\n      <td>33.770</td>\n      <td>1</td>\n      <td>no</td>\n      <td>southeast</td>\n      <td>1725.55230</td>\n    </tr>\n    <tr>\n      <th>2</th>\n      <td>28</td>\n      <td>male</td>\n      <td>33.000</td>\n      <td>3</td>\n      <td>no</td>\n      <td>southeast</td>\n      <td>4449.46200</td>\n    </tr>\n    <tr>\n      <th>3</th>\n      <td>33</td>\n      <td>male</td>\n      <td>22.705</td>\n      <td>0</td>\n      <td>no</td>\n      <td>northwest</td>\n      <td>21984.47061</td>\n    </tr>\n    <tr>\n      <th>4</th>\n      <td>32</td>\n      <td>male</td>\n      <td>28.880</td>\n      <td>0</td>\n      <td>no</td>\n      <td>northwest</td>\n      <td>3866.85520</td>\n    </tr>\n  </tbody>\n</table>\n</div>"
     },
     "execution_count": 5,
     "metadata": {},
     "output_type": "execute_result"
    }
   ],
   "source": [
    "df.rename(\n",
    "    columns=\n",
    "    {\n",
    "        \"age\": \"Age\",\n",
    "        \"sex\": \"Sex\",\n",
    "        \"bmi\": \"BMI\",\n",
    "        \"children\": \"Children\",\n",
    "        \"smoker\": \"Smoker\",\n",
    "        \"region\": \"Region\",\n",
    "        \"charges\": \"Charges\",\n",
    "    },\n",
    "    inplace=True,\n",
    ")\n",
    "\n",
    "df.head()"
   ],
   "metadata": {
    "collapsed": false,
    "ExecuteTime": {
     "end_time": "2024-01-01T14:38:34.645262571Z",
     "start_time": "2024-01-01T14:38:34.577230275Z"
    }
   },
   "id": "518171e6b671c5ff",
   "execution_count": 5
  },
  {
   "cell_type": "markdown",
   "source": [
    "## Replace the values of the \"Smoker\" column"
   ],
   "metadata": {
    "collapsed": false
   },
   "id": "c6118c1ca215ab2f"
  },
  {
   "cell_type": "code",
   "outputs": [
    {
     "data": {
      "text/plain": "   Age     Sex     BMI  Children  Smoker     Region      Charges\n0   19  female  27.900         0    True  southwest  16884.92400\n1   18    male  33.770         1   False  southeast   1725.55230\n2   28    male  33.000         3   False  southeast   4449.46200\n3   33    male  22.705         0   False  northwest  21984.47061\n4   32    male  28.880         0   False  northwest   3866.85520",
      "text/html": "<div>\n<style scoped>\n    .dataframe tbody tr th:only-of-type {\n        vertical-align: middle;\n    }\n\n    .dataframe tbody tr th {\n        vertical-align: top;\n    }\n\n    .dataframe thead th {\n        text-align: right;\n    }\n</style>\n<table border=\"1\" class=\"dataframe\">\n  <thead>\n    <tr style=\"text-align: right;\">\n      <th></th>\n      <th>Age</th>\n      <th>Sex</th>\n      <th>BMI</th>\n      <th>Children</th>\n      <th>Smoker</th>\n      <th>Region</th>\n      <th>Charges</th>\n    </tr>\n  </thead>\n  <tbody>\n    <tr>\n      <th>0</th>\n      <td>19</td>\n      <td>female</td>\n      <td>27.900</td>\n      <td>0</td>\n      <td>True</td>\n      <td>southwest</td>\n      <td>16884.92400</td>\n    </tr>\n    <tr>\n      <th>1</th>\n      <td>18</td>\n      <td>male</td>\n      <td>33.770</td>\n      <td>1</td>\n      <td>False</td>\n      <td>southeast</td>\n      <td>1725.55230</td>\n    </tr>\n    <tr>\n      <th>2</th>\n      <td>28</td>\n      <td>male</td>\n      <td>33.000</td>\n      <td>3</td>\n      <td>False</td>\n      <td>southeast</td>\n      <td>4449.46200</td>\n    </tr>\n    <tr>\n      <th>3</th>\n      <td>33</td>\n      <td>male</td>\n      <td>22.705</td>\n      <td>0</td>\n      <td>False</td>\n      <td>northwest</td>\n      <td>21984.47061</td>\n    </tr>\n    <tr>\n      <th>4</th>\n      <td>32</td>\n      <td>male</td>\n      <td>28.880</td>\n      <td>0</td>\n      <td>False</td>\n      <td>northwest</td>\n      <td>3866.85520</td>\n    </tr>\n  </tbody>\n</table>\n</div>"
     },
     "execution_count": 6,
     "metadata": {},
     "output_type": "execute_result"
    }
   ],
   "source": [
    "smoker_condition = lambda smoker: SMOKER_VALUES.get(smoker)\n",
    "\n",
    "df[\"Smoker\"] = df[\"Smoker\"].apply(smoker_condition)\n",
    "\n",
    "df.head()"
   ],
   "metadata": {
    "collapsed": false,
    "ExecuteTime": {
     "end_time": "2024-01-01T14:38:34.645996023Z",
     "start_time": "2024-01-01T14:38:34.609804074Z"
    }
   },
   "id": "81d9de9ea0fc3437",
   "execution_count": 6
  },
  {
   "cell_type": "markdown",
   "source": [
    "## Useful functions"
   ],
   "metadata": {
    "collapsed": false
   },
   "id": "b30895cc73be6772"
  },
  {
   "cell_type": "code",
   "outputs": [],
   "source": [
    "def get_percentage(column_name: str, search_value: str) -> float:\n",
    "    \"\"\"Get the percentage of the specified column value.\n",
    "    \n",
    "    :param column_name: str: Specify the column name\n",
    "    :param search_value: str: Specify the search value\n",
    "    :return: Percentage for the search value, rounded to 3 decimal places\n",
    "    \"\"\"\n",
    "    percentage = round(\n",
    "        sum(df[column_name] == search_value) / df[column_name].count() * 100,\n",
    "        3,\n",
    "    )\n",
    "    \n",
    "    return percentage"
   ],
   "metadata": {
    "collapsed": false,
    "ExecuteTime": {
     "end_time": "2024-01-01T14:38:34.784372770Z",
     "start_time": "2024-01-01T14:38:34.624439133Z"
    }
   },
   "id": "8106e3b547daf453",
   "execution_count": 7
  },
  {
   "cell_type": "code",
   "outputs": [],
   "source": [
    "def get_average_value_by_column(column_name: str, decimals: int = 0) -> float:\n",
    "    \"\"\"Get the average value of the specified column name.\n",
    "    \n",
    "    :param column_name: str: Specify the column name\n",
    "    :param decimals: int: Specify the number of decimal places\n",
    "    :return: Average value rounded to the specified decimal places\n",
    "    \"\"\"\n",
    "    average_value_by_column = round(df[column_name].mean(), decimals)\n",
    "    \n",
    "    return average_value_by_column"
   ],
   "metadata": {
    "collapsed": false,
    "ExecuteTime": {
     "end_time": "2024-01-01T14:38:34.784945704Z",
     "start_time": "2024-01-01T14:38:34.671679946Z"
    }
   },
   "id": "f6dbb74272277612",
   "execution_count": 8
  },
  {
   "cell_type": "code",
   "outputs": [],
   "source": [
    "def get_average_value_by_group(\n",
    "        group_by_column_name: str, aggregate_by_column_name: str\n",
    ") -> DataFrame:\n",
    "    \"\"\"Get the average value for each group.\n",
    "    \n",
    "    :param group_by_column_name: str: Specify the column name by which to\n",
    "        group the DataFrame\n",
    "    :param aggregate_by_column_name: Specify the column name by which to\n",
    "        aggregate the DataFrame\n",
    "    :return: \n",
    "    \"\"\"\n",
    "    average_value_by_group = (\n",
    "        df.groupby(group_by_column_name)[aggregate_by_column_name]\n",
    "        .mean()\n",
    "        .round(decimals=3)\n",
    "        .reset_index()\n",
    "    )\n",
    "    \n",
    "    return average_value_by_group"
   ],
   "metadata": {
    "collapsed": false,
    "ExecuteTime": {
     "end_time": "2024-01-01T14:38:34.785352820Z",
     "start_time": "2024-01-01T14:38:34.671795174Z"
    }
   },
   "id": "23c884a3e6e2c195",
   "execution_count": 9
  },
  {
   "cell_type": "markdown",
   "source": [
    "## Percentage of males and females in the dataset"
   ],
   "metadata": {
    "collapsed": false
   },
   "id": "f6ab8dfaec01f620"
  },
  {
   "cell_type": "code",
   "outputs": [
    {
     "name": "stdout",
     "output_type": "stream",
     "text": [
      "The percentage of males in the dataset is 50.523%\n",
      "The percentage of females in the dataset is 49.477%\n"
     ]
    }
   ],
   "source": [
    "male_percentage = get_percentage(column_name=\"Sex\", search_value=\"male\")\n",
    "female_percentage = get_percentage(column_name=\"Sex\", search_value=\"female\")\n",
    "\n",
    "print(f\"The percentage of males in the dataset is {male_percentage}%\")\n",
    "print(f\"The percentage of females in the dataset is {female_percentage}%\")"
   ],
   "metadata": {
    "collapsed": false,
    "ExecuteTime": {
     "end_time": "2024-01-01T14:38:34.981379613Z",
     "start_time": "2024-01-01T14:38:34.716336836Z"
    }
   },
   "id": "bb7b407c185c300d",
   "execution_count": 10
  },
  {
   "cell_type": "markdown",
   "source": [
    "## Add age groups to the dataset"
   ],
   "metadata": {
    "collapsed": false
   },
   "id": "d14cf8f03a565d90"
  },
  {
   "cell_type": "code",
   "outputs": [
    {
     "data": {
      "text/plain": "   Age     Sex     BMI  Children  Smoker     Region      Charges    Age Group\n0   19  female  27.900         0    True  southwest  16884.92400     Teenager\n1   18    male  33.770         1   False  southeast   1725.55230     Teenager\n2   28    male  33.000         3   False  southeast   4449.46200  Young adult\n3   33    male  22.705         0   False  northwest  21984.47061  Young adult\n4   32    male  28.880         0   False  northwest   3866.85520  Young adult",
      "text/html": "<div>\n<style scoped>\n    .dataframe tbody tr th:only-of-type {\n        vertical-align: middle;\n    }\n\n    .dataframe tbody tr th {\n        vertical-align: top;\n    }\n\n    .dataframe thead th {\n        text-align: right;\n    }\n</style>\n<table border=\"1\" class=\"dataframe\">\n  <thead>\n    <tr style=\"text-align: right;\">\n      <th></th>\n      <th>Age</th>\n      <th>Sex</th>\n      <th>BMI</th>\n      <th>Children</th>\n      <th>Smoker</th>\n      <th>Region</th>\n      <th>Charges</th>\n      <th>Age Group</th>\n    </tr>\n  </thead>\n  <tbody>\n    <tr>\n      <th>0</th>\n      <td>19</td>\n      <td>female</td>\n      <td>27.900</td>\n      <td>0</td>\n      <td>True</td>\n      <td>southwest</td>\n      <td>16884.92400</td>\n      <td>Teenager</td>\n    </tr>\n    <tr>\n      <th>1</th>\n      <td>18</td>\n      <td>male</td>\n      <td>33.770</td>\n      <td>1</td>\n      <td>False</td>\n      <td>southeast</td>\n      <td>1725.55230</td>\n      <td>Teenager</td>\n    </tr>\n    <tr>\n      <th>2</th>\n      <td>28</td>\n      <td>male</td>\n      <td>33.000</td>\n      <td>3</td>\n      <td>False</td>\n      <td>southeast</td>\n      <td>4449.46200</td>\n      <td>Young adult</td>\n    </tr>\n    <tr>\n      <th>3</th>\n      <td>33</td>\n      <td>male</td>\n      <td>22.705</td>\n      <td>0</td>\n      <td>False</td>\n      <td>northwest</td>\n      <td>21984.47061</td>\n      <td>Young adult</td>\n    </tr>\n    <tr>\n      <th>4</th>\n      <td>32</td>\n      <td>male</td>\n      <td>28.880</td>\n      <td>0</td>\n      <td>False</td>\n      <td>northwest</td>\n      <td>3866.85520</td>\n      <td>Young adult</td>\n    </tr>\n  </tbody>\n</table>\n</div>"
     },
     "execution_count": 11,
     "metadata": {},
     "output_type": "execute_result"
    }
   ],
   "source": [
    "age_condition = (\n",
    "    lambda age: AGE_GROUPS[0]\n",
    "    if age < 20\n",
    "    else AGE_GROUPS[1]\n",
    "    if 20 <= age < 40\n",
    "    else AGE_GROUPS[2]\n",
    "    if 40 <= age < 60\n",
    "    else AGE_GROUPS[3]\n",
    ")\n",
    "df[\"Age Group\"] = df[\"Age\"].apply(func=age_condition)\n",
    "\n",
    "df.head()"
   ],
   "metadata": {
    "collapsed": false,
    "ExecuteTime": {
     "end_time": "2024-01-01T14:38:35.199030272Z",
     "start_time": "2024-01-01T14:38:34.716487323Z"
    }
   },
   "id": "72900d934328236a",
   "execution_count": 11
  },
  {
   "cell_type": "markdown",
   "source": [
    "## Percentage of people in each age group"
   ],
   "metadata": {
    "collapsed": false
   },
   "id": "4c39fb4cb9a942f1"
  },
  {
   "cell_type": "code",
   "outputs": [
    {
     "name": "stdout",
     "output_type": "stream",
     "text": [
      "The percentage of \"Teenager\" group in the dataset is 10.239%\n",
      "The percentage of \"Young adult\" group in the dataset is 40.135%\n",
      "The percentage of \"Middle-aged adult\" group in the dataset is 41.106%\n",
      "The percentage of \"Senior citizen\" group in the dataset is 8.52%\n"
     ]
    }
   ],
   "source": [
    "percentages_age_groups = [\n",
    "    get_percentage(column_name=\"Age Group\", search_value=age_group)\n",
    "    for age_group in AGE_GROUPS\n",
    "]\n",
    "\n",
    "for age_group, percentage_age_group in zip(AGE_GROUPS, percentages_age_groups):\n",
    "    print(\n",
    "        f'The percentage of \"{age_group}\" group in the dataset is {percentage_age_group}%'\n",
    "    )"
   ],
   "metadata": {
    "collapsed": false,
    "ExecuteTime": {
     "end_time": "2024-01-01T14:38:35.203548708Z",
     "start_time": "2024-01-01T14:38:34.781083680Z"
    }
   },
   "id": "78505b1a3053bea2",
   "execution_count": 12
  },
  {
   "cell_type": "markdown",
   "source": [
    "## Average age in the dataset"
   ],
   "metadata": {
    "collapsed": false
   },
   "id": "75e8d20e86c74be1"
  },
  {
   "cell_type": "code",
   "outputs": [
    {
     "name": "stdout",
     "output_type": "stream",
     "text": [
      "The average age in the dataset is 39.0 years\n"
     ]
    }
   ],
   "source": [
    "average_age = get_average_value_by_column(column_name=\"Age\")\n",
    "\n",
    "print(f\"The average age in the dataset is {average_age} years\")"
   ],
   "metadata": {
    "collapsed": false,
    "ExecuteTime": {
     "end_time": "2024-01-01T14:38:35.254035762Z",
     "start_time": "2024-01-01T14:38:34.831419Z"
    }
   },
   "id": "191d1cb0d392dba4",
   "execution_count": 13
  },
  {
   "cell_type": "markdown",
   "source": [
    "## Add BMI groups to the dataset"
   ],
   "metadata": {
    "collapsed": false
   },
   "id": "ef95b019cb37bc9"
  },
  {
   "cell_type": "code",
   "outputs": [
    {
     "data": {
      "text/plain": "   Age     Sex     BMI  Children  Smoker     Region      Charges    Age Group  \\\n0   19  female  27.900         0    True  southwest  16884.92400     Teenager   \n1   18    male  33.770         1   False  southeast   1725.55230     Teenager   \n2   28    male  33.000         3   False  southeast   4449.46200  Young adult   \n3   33    male  22.705         0   False  northwest  21984.47061  Young adult   \n4   32    male  28.880         0   False  northwest   3866.85520  Young adult   \n\n       BMI Group  \n0     Overweight  \n1          Obese  \n2          Obese  \n3  Normal weight  \n4     Overweight  ",
      "text/html": "<div>\n<style scoped>\n    .dataframe tbody tr th:only-of-type {\n        vertical-align: middle;\n    }\n\n    .dataframe tbody tr th {\n        vertical-align: top;\n    }\n\n    .dataframe thead th {\n        text-align: right;\n    }\n</style>\n<table border=\"1\" class=\"dataframe\">\n  <thead>\n    <tr style=\"text-align: right;\">\n      <th></th>\n      <th>Age</th>\n      <th>Sex</th>\n      <th>BMI</th>\n      <th>Children</th>\n      <th>Smoker</th>\n      <th>Region</th>\n      <th>Charges</th>\n      <th>Age Group</th>\n      <th>BMI Group</th>\n    </tr>\n  </thead>\n  <tbody>\n    <tr>\n      <th>0</th>\n      <td>19</td>\n      <td>female</td>\n      <td>27.900</td>\n      <td>0</td>\n      <td>True</td>\n      <td>southwest</td>\n      <td>16884.92400</td>\n      <td>Teenager</td>\n      <td>Overweight</td>\n    </tr>\n    <tr>\n      <th>1</th>\n      <td>18</td>\n      <td>male</td>\n      <td>33.770</td>\n      <td>1</td>\n      <td>False</td>\n      <td>southeast</td>\n      <td>1725.55230</td>\n      <td>Teenager</td>\n      <td>Obese</td>\n    </tr>\n    <tr>\n      <th>2</th>\n      <td>28</td>\n      <td>male</td>\n      <td>33.000</td>\n      <td>3</td>\n      <td>False</td>\n      <td>southeast</td>\n      <td>4449.46200</td>\n      <td>Young adult</td>\n      <td>Obese</td>\n    </tr>\n    <tr>\n      <th>3</th>\n      <td>33</td>\n      <td>male</td>\n      <td>22.705</td>\n      <td>0</td>\n      <td>False</td>\n      <td>northwest</td>\n      <td>21984.47061</td>\n      <td>Young adult</td>\n      <td>Normal weight</td>\n    </tr>\n    <tr>\n      <th>4</th>\n      <td>32</td>\n      <td>male</td>\n      <td>28.880</td>\n      <td>0</td>\n      <td>False</td>\n      <td>northwest</td>\n      <td>3866.85520</td>\n      <td>Young adult</td>\n      <td>Overweight</td>\n    </tr>\n  </tbody>\n</table>\n</div>"
     },
     "execution_count": 14,
     "metadata": {},
     "output_type": "execute_result"
    }
   ],
   "source": [
    "bmi_condition = (\n",
    "    lambda bmi: BMI_GROUPS[0]\n",
    "    if bmi < 18.5\n",
    "    else BMI_GROUPS[1]\n",
    "    if 18.5 <= bmi < 25\n",
    "    else BMI_GROUPS[2]\n",
    "    if 25 <= bmi < 30\n",
    "    else BMI_GROUPS[3]\n",
    ")\n",
    "\n",
    "df[\"BMI Group\"] = df[\"BMI\"].apply(bmi_condition)\n",
    "\n",
    "df.head()"
   ],
   "metadata": {
    "collapsed": false,
    "ExecuteTime": {
     "end_time": "2024-01-01T14:38:35.255285473Z",
     "start_time": "2024-01-01T14:38:34.872137308Z"
    }
   },
   "id": "36d3af6de3ee43bc",
   "execution_count": 14
  },
  {
   "cell_type": "markdown",
   "source": [
    "## Percentage of people in each BMI group"
   ],
   "metadata": {
    "collapsed": false
   },
   "id": "9ed820fcd16be3d2"
  },
  {
   "cell_type": "code",
   "outputs": [
    {
     "name": "stdout",
     "output_type": "stream",
     "text": [
      "The percentage of \"Underweight\" group in the dataset is 10.239%\n",
      "The percentage of \"Normal weight\" group in the dataset is 40.135%\n",
      "The percentage of \"Overweight\" group in the dataset is 41.106%\n",
      "The percentage of \"Obese\" group in the dataset is 8.52%\n"
     ]
    }
   ],
   "source": [
    "percentages_bmi_groups = [\n",
    "    get_percentage(column_name=\"BMI Group\", search_value=bmi_group)\n",
    "    for bmi_group in BMI_GROUPS\n",
    "]\n",
    "\n",
    "for bmi_group, percentage_bmi_group in zip(BMI_GROUPS, percentages_age_groups):\n",
    "    print(\n",
    "        f'The percentage of \"{bmi_group}\" group in the dataset is {percentage_bmi_group}%'\n",
    "    )"
   ],
   "metadata": {
    "collapsed": false,
    "ExecuteTime": {
     "end_time": "2024-01-01T14:38:35.413246293Z",
     "start_time": "2024-01-01T14:38:34.916277141Z"
    }
   },
   "id": "f2e6d36cbad447a6",
   "execution_count": 15
  },
  {
   "cell_type": "markdown",
   "source": [
    "## Average BMI in the dataset"
   ],
   "metadata": {
    "collapsed": false
   },
   "id": "cb03281974437b5c"
  },
  {
   "cell_type": "code",
   "outputs": [
    {
     "name": "stdout",
     "output_type": "stream",
     "text": [
      "The average BMI in the dataset is 30.663\n"
     ]
    }
   ],
   "source": [
    "average_bmi = get_average_value_by_column(column_name=\"BMI\", decimals=3)\n",
    "\n",
    "print(f\"The average BMI in the dataset is {average_bmi}\")"
   ],
   "metadata": {
    "collapsed": false,
    "ExecuteTime": {
     "end_time": "2024-01-01T14:38:35.413966099Z",
     "start_time": "2024-01-01T14:38:35.163483253Z"
    }
   },
   "id": "4071cfb65915f1c",
   "execution_count": 16
  },
  {
   "cell_type": "markdown",
   "source": [
    "## Percentage of people in each region"
   ],
   "metadata": {
    "collapsed": false
   },
   "id": "da295168d475efac"
  },
  {
   "cell_type": "code",
   "outputs": [
    {
     "name": "stdout",
     "output_type": "stream",
     "text": [
      "The percentage of \"southwest\" region in the dataset is 24.29%\n",
      "The percentage of \"southeast\" region in the dataset is 27.205%\n",
      "The percentage of \"northwest\" region in the dataset is 24.29%\n",
      "The percentage of \"northeast\" region in the dataset is 24.215%\n"
     ]
    }
   ],
   "source": [
    "regions = list(df[\"Region\"].unique())\n",
    "\n",
    "percentages_regions = [\n",
    "    get_percentage(column_name=\"Region\", search_value=region)\n",
    "    for region in regions\n",
    "]\n",
    "\n",
    "for region, percentage_region in zip(regions, percentages_regions):\n",
    "    print(\n",
    "        f'The percentage of \"{region}\" region in the dataset is {percentage_region}%'\n",
    "    )"
   ],
   "metadata": {
    "collapsed": false,
    "ExecuteTime": {
     "end_time": "2024-01-01T14:38:35.898351677Z",
     "start_time": "2024-01-01T14:38:35.177853450Z"
    }
   },
   "id": "2e340379fb82e03e",
   "execution_count": 17
  },
  {
   "cell_type": "markdown",
   "source": [
    "## Average charges in the dataset"
   ],
   "metadata": {
    "collapsed": false
   },
   "id": "14587298d7b1e0f"
  },
  {
   "cell_type": "code",
   "outputs": [
    {
     "name": "stdout",
     "output_type": "stream",
     "text": [
      "The average cost of health insurance in the data set is 13270.422\n"
     ]
    }
   ],
   "source": [
    "average_charges = get_average_value_by_column(column_name=\"Charges\", decimals=3)\n",
    "\n",
    "print(f\"The average cost of health insurance in the data set is {average_charges}\")"
   ],
   "metadata": {
    "collapsed": false,
    "ExecuteTime": {
     "end_time": "2024-01-01T14:38:35.959990936Z",
     "start_time": "2024-01-01T14:38:35.438999867Z"
    }
   },
   "id": "1c29f77b05cc011",
   "execution_count": 18
  },
  {
   "cell_type": "markdown",
   "source": [
    "## Average charges by sex"
   ],
   "metadata": {
    "collapsed": false
   },
   "id": "d6f8d8d36272547c"
  },
  {
   "cell_type": "code",
   "outputs": [
    {
     "name": "stdout",
     "output_type": "stream",
     "text": [
      "      Sex    Charges\n",
      "0  female  12569.579\n",
      "1    male  13956.751\n"
     ]
    }
   ],
   "source": [
    "average_charges_by_sex = get_average_value_by_group(\n",
    "    group_by_column_name=\"Sex\", aggregate_by_column_name=\"Charges\"\n",
    ")\n",
    "\n",
    "print(average_charges_by_sex)"
   ],
   "metadata": {
    "collapsed": false,
    "ExecuteTime": {
     "end_time": "2024-01-01T14:38:35.960673979Z",
     "start_time": "2024-01-01T14:38:35.494828704Z"
    }
   },
   "id": "28d32076c3f95a2a",
   "execution_count": 19
  },
  {
   "cell_type": "markdown",
   "source": [
    "## Average charges by region"
   ],
   "metadata": {
    "collapsed": false
   },
   "id": "18b4c855a78c19b"
  },
  {
   "cell_type": "code",
   "outputs": [
    {
     "name": "stdout",
     "output_type": "stream",
     "text": [
      "      Region    Charges\n",
      "0  northeast  13406.385\n",
      "1  northwest  12417.575\n",
      "2  southeast  14735.411\n",
      "3  southwest  12346.937\n"
     ]
    }
   ],
   "source": [
    "average_charges_by_region = get_average_value_by_group(\n",
    "    group_by_column_name=\"Region\", aggregate_by_column_name=\"Charges\"\n",
    ")\n",
    "\n",
    "print(average_charges_by_region)"
   ],
   "metadata": {
    "collapsed": false,
    "ExecuteTime": {
     "end_time": "2024-01-01T14:38:35.961844242Z",
     "start_time": "2024-01-01T14:38:35.515902279Z"
    }
   },
   "id": "28d7fe772f878f07",
   "execution_count": 20
  },
  {
   "cell_type": "markdown",
   "source": [
    "## Average charges by age group"
   ],
   "metadata": {
    "collapsed": false
   },
   "id": "bf8ad327ea5f8cef"
  },
  {
   "cell_type": "code",
   "outputs": [
    {
     "name": "stdout",
     "output_type": "stream",
     "text": [
      "           Age Group    Charges\n",
      "0  Middle-aged adult  15431.974\n",
      "1     Senior citizen  21248.022\n",
      "2           Teenager   8407.349\n",
      "3        Young adult  10603.646\n"
     ]
    }
   ],
   "source": [
    "average_charges_by_age_group = get_average_value_by_group(\n",
    "    group_by_column_name=\"Age Group\", aggregate_by_column_name=\"Charges\"\n",
    ")\n",
    "\n",
    "print(average_charges_by_age_group)"
   ],
   "metadata": {
    "collapsed": false,
    "ExecuteTime": {
     "end_time": "2024-01-01T14:38:35.962323146Z",
     "start_time": "2024-01-01T14:38:35.574251088Z"
    }
   },
   "id": "a85d0436dd68fda",
   "execution_count": 21
  },
  {
   "cell_type": "markdown",
   "source": [
    "## Average charges by BMI group"
   ],
   "metadata": {
    "collapsed": false
   },
   "id": "34355942da430480"
  },
  {
   "cell_type": "code",
   "outputs": [
    {
     "name": "stdout",
     "output_type": "stream",
     "text": [
      "       BMI Group    Charges\n",
      "0  Normal weight  10409.338\n",
      "1          Obese  15552.335\n",
      "2     Overweight  10987.510\n",
      "3    Underweight   8852.201\n"
     ]
    }
   ],
   "source": [
    "average_charges_by_bmi_group = get_average_value_by_group(\n",
    "    group_by_column_name=\"BMI Group\", aggregate_by_column_name=\"Charges\"\n",
    ")\n",
    "\n",
    "print(average_charges_by_bmi_group)"
   ],
   "metadata": {
    "collapsed": false,
    "ExecuteTime": {
     "end_time": "2024-01-01T14:38:35.962766847Z",
     "start_time": "2024-01-01T14:38:35.650624366Z"
    }
   },
   "id": "63c693c59d721dc6",
   "execution_count": 22
  },
  {
   "cell_type": "code",
   "outputs": [],
   "source": [],
   "metadata": {
    "collapsed": false,
    "ExecuteTime": {
     "end_time": "2024-01-01T14:38:35.963331892Z",
     "start_time": "2024-01-01T14:38:35.650829251Z"
    }
   },
   "id": "a3c79486cb3b6c9b",
   "execution_count": 22
  }
 ],
 "metadata": {
  "kernelspec": {
   "display_name": "Python 3",
   "language": "python",
   "name": "python3"
  },
  "language_info": {
   "codemirror_mode": {
    "name": "ipython",
    "version": 2
   },
   "file_extension": ".py",
   "mimetype": "text/x-python",
   "name": "python",
   "nbconvert_exporter": "python",
   "pygments_lexer": "ipython2",
   "version": "2.7.6"
  }
 },
 "nbformat": 4,
 "nbformat_minor": 5
}
